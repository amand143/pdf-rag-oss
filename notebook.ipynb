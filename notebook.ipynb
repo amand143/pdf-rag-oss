{
 "cells": [
  {
   "cell_type": "code",
   "execution_count": 85,
   "metadata": {},
   "outputs": [],
   "source": [
    "from dotenv import load_dotenv"
   ]
  },
  {
   "cell_type": "code",
   "execution_count": 128,
   "metadata": {},
   "outputs": [],
   "source": [
    "MODEL = \"llama2\"\n",
    "from langchain_community.llms import Ollama"
   ]
  },
  {
   "cell_type": "code",
   "execution_count": 129,
   "metadata": {},
   "outputs": [],
   "source": [
    "model = Ollama(model=MODEL)"
   ]
  },
  {
   "cell_type": "code",
   "execution_count": 130,
   "metadata": {},
   "outputs": [],
   "source": [
    "from langchain_core.output_parsers import StrOutputParser\n",
    "parser = StrOutputParser()"
   ]
  },
  {
   "cell_type": "code",
   "execution_count": 131,
   "metadata": {},
   "outputs": [
    {
     "data": {
      "text/plain": [
       "'\\nI\\'m just an AI, I don\\'t have a physical body or appearance, so I don\\'t have a \"look\" in the classical sense. However, I can understand and respond to your messages in a text-based format. Is there something specific you would like to know or discuss?'"
      ]
     },
     "execution_count": 131,
     "metadata": {},
     "output_type": "execute_result"
    }
   ],
   "source": [
    "chain = model | parser\n",
    "chain.invoke(\"how does it look now?\")"
   ]
  },
  {
   "cell_type": "code",
   "execution_count": 132,
   "metadata": {},
   "outputs": [
    {
     "name": "stderr",
     "output_type": "stream",
     "text": [
      "Ignoring wrong pointing object 8 0 (offset 0)\n",
      "Ignoring wrong pointing object 10 0 (offset 0)\n",
      "Ignoring wrong pointing object 12 0 (offset 0)\n",
      "Ignoring wrong pointing object 20 0 (offset 0)\n",
      "100%|██████████| 1/1 [00:00<00:00,  8.60it/s]\n"
     ]
    }
   ],
   "source": [
    "\n",
    "from langchain.document_loaders import DirectoryLoader\n",
    "from langchain_community.document_loaders import PyPDFLoader\n",
    "loader = DirectoryLoader('./', glob=\"./*.pdf\", loader_cls=PyPDFLoader, show_progress=True)\n",
    "documents = loader.load()"
   ]
  },
  {
   "cell_type": "code",
   "execution_count": 133,
   "metadata": {},
   "outputs": [
    {
     "name": "stderr",
     "output_type": "stream",
     "text": [
      "Ignoring wrong pointing object 8 0 (offset 0)\n",
      "Ignoring wrong pointing object 10 0 (offset 0)\n",
      "Ignoring wrong pointing object 12 0 (offset 0)\n",
      "Ignoring wrong pointing object 20 0 (offset 0)\n",
      "100%|██████████| 1/1 [00:00<00:00, 13.85it/s]\n"
     ]
    },
    {
     "data": {
      "text/plain": [
       "[Document(page_content='WelcomeAirBed&BreakfastBook rooms with locals, rather than hotels.1\\nThis is a PowerPoint reproduction of an early AirBnB pitch deckvia Business Insider @http://www.businessinsider.com/airbnb-a-13-billion-dollar-startups-first-ever-pitch-deck-2011-9', metadata={'source': 'pitch.pdf', 'page': 0}),\n",
       " Document(page_content='Problem2Priceis an important concern for customers booking travel online.Hotelsleave you disconnected from the city and its culture. No easy way existsto book a room with a local or become a host.\\nTemplate by PitchDeckCoach.com', metadata={'source': 'pitch.pdf', 'page': 1}),\n",
       " Document(page_content='Solution3A web platformwhere users can rent out their space to host travelers to:\\nSAVE MONEYwhen traveling\\nMAKEMONEYwhen hosting\\nSHARECULTURElocal connection to the city\\nTemplate by PitchDeckCoach.com', metadata={'source': 'pitch.pdf', 'page': 2}),\n",
       " Document(page_content='Market Validation4630,000on temporary housing site couchsurfing.com17,000temporary housing listings on SF & NYC Craigslist from 07/09 –07/16\\nTemplate by PitchDeckCoach.com', metadata={'source': 'pitch.pdf', 'page': 3}),\n",
       " Document(page_content='Market Size51.9 Billion+TRIPS BOOKED(WORDLWIDE)Total Available Market532MBUDGET & ONLINE TRIPSServiceable Available Market10.6MTRIPS W/AB&BMarket ShareTemplate by PitchDeckCoach.com', metadata={'source': 'pitch.pdf', 'page': 4}),\n",
       " Document(page_content='Product6REVIEW LISTINGS\\nTemplate by PitchDeckCoach.comSEARCH BY CITYBOOK IT!', metadata={'source': 'pitch.pdf', 'page': 5}),\n",
       " Document(page_content='Business Model7\\nTemplate by PitchDeckCoach.comWe take a 10% commission on each transaction.\\nTRIPS W/AB&BShare of MarketAVG FEE$70/night @ 3 nightsREVENUE2008-201110.6M$20$200M', metadata={'source': 'pitch.pdf', 'page': 6}),\n",
       " Document(page_content='Market Adoption8\\nTemplate by PitchDeckCoach.comEVENTStarget events monthlyPARTNERSHIPScheap/alternative travelCRAIGSLISTdual posting featureOctoberfest (6M)Cebit (700,000)Summerfest (1M)Eurocup(3M+)Mardi Gras (800,000)with listing widget\\nWidget screenshotAirBnB screenshotCraigslistscreenshot', metadata={'source': 'pitch.pdf', 'page': 7}),\n",
       " Document(page_content='Competition9\\nTemplate by PitchDeckCoach.comAFFORDABLE\\nEXPENSIVEONLINE TRANSACTIONOFFLINE TRANSACTION', metadata={'source': 'pitch.pdf', 'page': 8}),\n",
       " Document(page_content='Competitive Advantages10\\nTemplate by PitchDeckCoach.com1stTO MARKETHOST INCENTIVELorem ipsum dolor sit amet, consectetur adipiscing elit. Integer nec odio. Praesent libero. Lorem ipsum dolor sit amet, consectetur adipiscing elit. Integer nec odio. Praesent libero. Lorem ipsum dolor sit amet, consectetur adipiscing elit. Integer nec odio. Praesent libero. LIST ONCEEASE OF USEPROFILESLorem ipsum dolor sit amet, consectetur adipiscing elit. Integer nec odio. Praesent libero. Lorem ipsum dolor sit amet, consectetur adipiscing elit. Integer nec odio. Praesent libero. Lorem ipsum dolor sit amet, consectetur adipiscing elit. Integer nec odio. Praesent libero. DESIGN & BRAND', metadata={'source': 'pitch.pdf', 'page': 9}),\n",
       " Document(page_content='If you liked this, you’ll love our Pitch Deck Coach template. Click below.\\nhttp://www.slideshare.net/PitchDeckCoach/the-ultimate-pitch-deck-template-by-pitchdeckcoach', metadata={'source': 'pitch.pdf', 'page': 10}),\n",
       " Document(page_content='Did you enjoy this deck?Read my blog post on “The Pitch Deck”\\nhttp://pitchdeckcoach.com/pitch-deck', metadata={'source': 'pitch.pdf', 'page': 11})]"
      ]
     },
     "execution_count": 133,
     "metadata": {},
     "output_type": "execute_result"
    }
   ],
   "source": [
    "documents = loader.load_and_split()\n",
    "documents"
   ]
  },
  {
   "cell_type": "code",
   "execution_count": 145,
   "metadata": {},
   "outputs": [
    {
     "name": "stdout",
     "output_type": "stream",
     "text": [
      "\n",
      "answer the question based on the cotext below, if you cannot answer, simply reply i dont know\n",
      "context: here is some context\n",
      "question: here is a question\n",
      "\n"
     ]
    }
   ],
   "source": [
    "from langchain.prompts import PromptTemplate\n",
    "template = \"\"\"\n",
    "answer the question based on the cotext below, if you cannot answer, simply reply i dont know\n",
    "context: {context}\n",
    "question: {question}\n",
    "\"\"\"\n",
    "prompt = PromptTemplate.from_template(template=template)\n",
    "print(prompt.format(context=\"here is some context\", question=\"here is a question\"))"
   ]
  },
  {
   "cell_type": "code",
   "execution_count": 146,
   "metadata": {},
   "outputs": [],
   "source": [
    "chain = prompt | model | parser"
   ]
  },
  {
   "cell_type": "code",
   "execution_count": 147,
   "metadata": {},
   "outputs": [
    {
     "data": {
      "text/plain": [
       "{'title': 'PromptInput',\n",
       " 'type': 'object',\n",
       " 'properties': {'context': {'title': 'Context', 'type': 'string'},\n",
       "  'question': {'title': 'Question', 'type': 'string'}}}"
      ]
     },
     "execution_count": 147,
     "metadata": {},
     "output_type": "execute_result"
    }
   ],
   "source": [
    "chain.input_schema.schema()"
   ]
  },
  {
   "cell_type": "code",
   "execution_count": 148,
   "metadata": {},
   "outputs": [],
   "source": [
    "from langchain_text_splitters import RecursiveCharacterTextSplitter\n",
    "from langchain_community.embeddings import OllamaEmbeddings\n",
    "\n",
    "text_splitter = RecursiveCharacterTextSplitter(chunk_size=500, chunk_overlap=0)\n",
    "docs = text_splitter.split_documents(documents)\n",
    "embeddings = OllamaEmbeddings()"
   ]
  },
  {
   "cell_type": "code",
   "execution_count": 149,
   "metadata": {},
   "outputs": [
    {
     "name": "stdout",
     "output_type": "stream",
     "text": [
      "page_content='WelcomeAirBed&BreakfastBook rooms with locals, rather than hotels.1\\nThis is a PowerPoint reproduction of an early AirBnB pitch deckvia Business Insider @http://www.businessinsider.com/airbnb-a-13-billion-dollar-startups-first-ever-pitch-deck-2011-9' metadata={'source': 'pitch.pdf', 'page': 0}\n"
     ]
    }
   ],
   "source": [
    "print(docs[0])"
   ]
  },
  {
   "cell_type": "code",
   "execution_count": 140,
   "metadata": {},
   "outputs": [],
   "source": [
    "from pinecone import Pinecone, ServerlessSpec\n",
    "from langchain_pinecone import PineconeVectorStore\n",
    "\n",
    "pc = Pinecone(api_key='')\n",
    "index_name = \"test-index-dim\"\n",
    "\n",
    "pc.create_index(\n",
    "    name=index_name,\n",
    "    dimension=4096,\n",
    "    metric=\"cosine\",\n",
    "    spec=ServerlessSpec(\n",
    "        cloud='aws', \n",
    "        region='us-east-1'\n",
    "    ) \n",
    ") \n",
    "\n"
   ]
  },
  {
   "cell_type": "code",
   "execution_count": 150,
   "metadata": {},
   "outputs": [],
   "source": [
    "import os\n",
    "from dotenv import load_dotenv\n",
    "load_dotenv()\n",
    "pinecone_api_key = os.environ.get('PINECONE_API_KEY')\n",
    "index_name = \"test-index-dim\"\n",
    "vectrostore = PineconeVectorStore.from_documents(docs, embedding=embeddings, index_name=index_name)"
   ]
  },
  {
   "cell_type": "code",
   "execution_count": 151,
   "metadata": {},
   "outputs": [],
   "source": [
    "retriever = vectrostore.as_retriever()"
   ]
  },
  {
   "cell_type": "code",
   "execution_count": 152,
   "metadata": {},
   "outputs": [
    {
     "data": {
      "text/plain": [
       "[Document(page_content='Template by PitchDeckCoach.com1stTO MARKETHOST INCENTIVELorem ipsum dolor sit amet, consectetur adipiscing elit. Integer nec odio. Praesent libero. Lorem ipsum dolor sit amet, consectetur adipiscing elit. Integer nec odio. Praesent libero. Lorem ipsum dolor sit amet, consectetur adipiscing elit. Integer nec odio. Praesent libero. LIST ONCEEASE OF USEPROFILESLorem ipsum dolor sit amet, consectetur adipiscing elit. Integer nec odio. Praesent libero. Lorem ipsum dolor sit amet, consectetur', metadata={'page': 9.0, 'source': 'pitch.pdf'}),\n",
       " Document(page_content='Template by PitchDeckCoach.com1stTO MARKETHOST INCENTIVELorem ipsum dolor sit amet, consectetur adipiscing elit. Integer nec odio. Praesent libero. Lorem ipsum dolor sit amet, consectetur adipiscing elit. Integer nec odio. Praesent libero. Lorem ipsum dolor sit amet, consectetur adipiscing elit. Integer nec odio. Praesent libero. LIST ONCEEASE OF USEPROFILESLorem ipsum dolor sit amet, consectetur adipiscing elit. Integer nec odio. Praesent libero. Lorem ipsum dolor sit amet, consectetur', metadata={'page': 9.0, 'source': 'pitch.pdf'}),\n",
       " Document(page_content='They reafﬁrmed their commitment to continue to strengthen the bilateral Strategic partnership.\\nThe two leaders also exchanged views on regional and global developments of mutual interest.', metadata={'page': 0.0, 'source': 'download.pdf'}),\n",
       " Document(page_content='If you liked this, you’ll love our Pitch Deck Coach template. Click below.\\nhttp://www.slideshare.net/PitchDeckCoach/the-ultimate-pitch-deck-template-by-pitchdeckcoach', metadata={'page': 10.0, 'source': 'pitch.pdf'})]"
      ]
     },
     "execution_count": 152,
     "metadata": {},
     "output_type": "execute_result"
    }
   ],
   "source": [
    "retriever.invoke(\"\")"
   ]
  },
  {
   "cell_type": "code",
   "execution_count": 154,
   "metadata": {},
   "outputs": [
    {
     "data": {
      "text/plain": [
       "\"Based on the provided documents, I can identify some potential competitive advantages of AirBnB:\\n\\n1. Personalized experiences: By staying with locals, guests can have a more personalized and authentic experience, which is in line with Airbnb's mission to provide unique accommodations that allow travelers to feel at home.\\n2. Local knowledge: Hosts are often knowledgeable about their area and can provide valuable insights and recommendations to guests, enhancing their overall travel experience.\\n3. Cost-effective: Booking a room with a local through Airbnb can be more cost-effective than staying in a hotel, especially for longer stays or for travelers on a budget.\\n4. Flexibility: Airbnb offers a wide range of accommodations, from shared rooms to entire homes and apartments, allowing guests to choose the level of privacy and comfort that best suits their needs.\\n5. Community building: Airbnb fosters a sense of community among hosts and guests by providing a platform for people to connect with each other and share experiences.\\n6. Innovative business model: Airbnb's peer-to-peer sharing economy model has disrupted the traditional hospitality industry, offering a new way for travelers to find accommodations and for hosts to monetize their assets.\\n7. Scalability: As the platform continues to grow, hosts can earn income from renting out their spaces to an increasing number of guests, creating potential for passive income.\\n8. Adaptability: Airbnb has adapted to changing traveler preferences and market trends by offering new features such as Experiences and Reservations, allowing the platform to remain competitive in a rapidly evolving industry.\""
      ]
     },
     "execution_count": 154,
     "metadata": {},
     "output_type": "execute_result"
    }
   ],
   "source": [
    "from operator import itemgetter\n",
    "chain = (\n",
    "    {\n",
    "        \"context\": itemgetter(\"question\") | retriever,\n",
    "        \"question\": itemgetter(\"question\")\n",
    "    }\n",
    "    | prompt\n",
    "    | model\n",
    "    | parser\n",
    "\n",
    ")\n",
    "\n",
    "chain.invoke({\"question\": \"\"})"
   ]
  },
  {
   "cell_type": "code",
   "execution_count": null,
   "metadata": {},
   "outputs": [],
   "source": []
  }
 ],
 "metadata": {
  "kernelspec": {
   "display_name": "Python 3",
   "language": "python",
   "name": "python3"
  },
  "language_info": {
   "codemirror_mode": {
    "name": "ipython",
    "version": 3
   },
   "file_extension": ".py",
   "mimetype": "text/x-python",
   "name": "python",
   "nbconvert_exporter": "python",
   "pygments_lexer": "ipython3",
   "version": "3.12.3"
  }
 },
 "nbformat": 4,
 "nbformat_minor": 2
}
